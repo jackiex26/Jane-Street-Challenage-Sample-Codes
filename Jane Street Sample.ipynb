{
 "cells": [
  {
   "cell_type": "markdown",
   "metadata": {},
   "source": [
    "# Jane Street Data Challenge\n",
    "\n",
    "- Datasets from Kaggle Competition: https://www.kaggle.com/c/jane-street-market-prediction/data\n",
    "- Note: this is a sample code, the parameters and results were not final results\n",
    "- Feel free to use and don't forget upvote & credit :)"
   ]
  },
  {
   "cell_type": "markdown",
   "metadata": {},
   "source": [
    "**Table of Contents**\n",
    "\n",
    "[I. Load Library and Data Functions](#section1)\n",
    "\n",
    "[II. Exploratory Data Analysis](#section2)\n",
    "\n",
    "1. Import Data & Preliminatory Analysis\n",
    "2. Feature Plots (Saved to Pdf)\n",
    "3. Target Exploration\n",
    "4. Feature Correlation Analysis\n",
    "\n",
    "[III. Data Preprocessing](#section3)\n",
    "1. Dealing with Missing Values\n",
    "2. Dimension Reduction using PCA and Hierarchy Clustering\n",
    "\n",
    "[IV. Modeling](#section4)\n"
   ]
  },
  {
   "cell_type": "markdown",
   "metadata": {},
   "source": [
    "## I. Load Lib and Data Functions <a id='section1'></a>"
   ]
  },
  {
   "cell_type": "markdown",
   "metadata": {},
   "source": [
    "### Load Library"
   ]
  },
  {
   "cell_type": "code",
   "execution_count": null,
   "metadata": {
    "colab": {
     "base_uri": "https://localhost:8080/"
    },
    "id": "hONrKyCuA9yG",
    "outputId": "3fd196ee-822e-4003-cf9b-c0dbdcf06ff4"
   },
   "outputs": [
    {
     "name": "stdout",
     "output_type": "stream",
     "text": [
      "Mounted at /content/gdrive\n"
     ]
    }
   ],
   "source": [
    "from google.colab import drive\n",
    "drive.mount('/content/gdrive')"
   ]
  },
  {
   "cell_type": "code",
   "execution_count": 98,
   "metadata": {
    "id": "sLyPEdHrCc4q"
   },
   "outputs": [],
   "source": [
    "import pandas as pd\n",
    "import numpy as np\n",
    "import matplotlib.pyplot as plt\n",
    "import seaborn as sns\n",
    "import warnings\n",
    "warnings.filterwarnings(\"ignore\", category=FutureWarning)\n",
    "import scipy\n",
    "import os"
   ]
  },
  {
   "cell_type": "markdown",
   "metadata": {
    "heading_collapsed": true,
    "id": "ojomFtf1L2Zo"
   },
   "source": [
    "### Data Functions\n"
   ]
  },
  {
   "cell_type": "code",
   "execution_count": 4,
   "metadata": {
    "hidden": true,
    "id": "BruemJrn9S03"
   },
   "outputs": [],
   "source": [
    "def review_numerical_variable(df):\n",
    "    return df.select_dtypes(exclude='object').describe().transpose().sort_values('mean',ascending=False)\n",
    "\n",
    "def review_category_variable(df,n):\n",
    "    results = pd.DataFrame()\n",
    "    for col in df.select_dtypes(include='object'):\n",
    "        feature = df[col].replace(np.NaN, 'Missing')\n",
    "        summary = feature.value_counts(dropna=False)/df.shape[0]\n",
    "        summary = summary.round(2).sort_values(ascending=False).reset_index()\n",
    "        other = summary.iloc[n+1:][col].sum()\n",
    "        summary = summary.iloc[:n+1].transpose().reset_index()\n",
    "        summary['other'] = other\n",
    "        summary['index'] = col\n",
    "        summary['Unique_Values'] = feature.nunique()\n",
    "        summary.rename(columns = {'index':'Column'},inplace = True)\n",
    "        results = pd.concat([results, summary])\n",
    "    results.reset_index(inplace = True)\n",
    "    results['index'] = results['index'].apply(lambda x:'name' if x == 0 else 'perc')\n",
    "    return results\n",
    "\n",
    "\n",
    "def missing_value_check(df):\n",
    "    summary = df.isnull().sum().reset_index().rename({'index':'var',0:'count'},axis=1).sort_values('count',ascending=False).reset_index(drop=True)\n",
    "    summary['perc'] = summary['count']/df.shape[0]\n",
    "    return summary[summary['count']>0]\n",
    "\n"
   ]
  },
  {
   "cell_type": "markdown",
   "metadata": {
    "id": "3wSemgVlMCSu"
   },
   "source": [
    "## II. Exploration Data Analysis <a id='section2'></a>\n",
    "\n",
    "\n",
    "1. Import Data & Preliminatory Analysis\n",
    "2. Feature Plots (Saved to Pdf)\n",
    "3. Target Exploration\n",
    "4. Feature Correlation Analysis\n"
   ]
  },
  {
   "cell_type": "markdown",
   "metadata": {
    "id": "PxydFZppdQ7u"
   },
   "source": [
    "\n",
    "### Import  Data & Preliminatory Analysis"
   ]
  },
  {
   "cell_type": "code",
   "execution_count": 5,
   "metadata": {
    "colab": {
     "base_uri": "https://localhost:8080/"
    },
    "id": "xk6tRJbaMJMQ",
    "outputId": "9e631546-5a72-49d5-d7f3-1019fb156441"
   },
   "outputs": [],
   "source": [
    "#df = pd.read_csv('/content/gdrive/MyDrive/Data/train.csv')\n",
    "df = pd.read_csv(dir + 'train.csv')"
   ]
  },
  {
   "cell_type": "code",
   "execution_count": 7,
   "metadata": {},
   "outputs": [],
   "source": [
    "df = df.sample(n = 10000)"
   ]
  },
  {
   "cell_type": "code",
   "execution_count": 10,
   "metadata": {
    "id": "ZA1-A6Hc9S7F"
   },
   "outputs": [],
   "source": [
    "#Define Target\n",
    "df['action'] = (df.resp > 0).astype('int')"
   ]
  },
  {
   "cell_type": "code",
   "execution_count": 11,
   "metadata": {
    "id": "9Kdic_iDeYUO"
   },
   "outputs": [],
   "source": [
    "#feature list\n",
    "features_list = [c for c in df.columns if 'feature' in c]"
   ]
  },
  {
   "cell_type": "code",
   "execution_count": 12,
   "metadata": {
    "id": "RHmdtfiW_Yhg"
   },
   "outputs": [],
   "source": [
    "#Review numerical features\n",
    "summary_num = review_numerical_variable(df[features_list])"
   ]
  },
  {
   "cell_type": "code",
   "execution_count": 222,
   "metadata": {
    "id": "-dPDHXmWJY53"
   },
   "outputs": [],
   "source": [
    "#Review categorical features\n",
    "cat_num = review_category_variable(df[features_list],2) "
   ]
  },
  {
   "cell_type": "markdown",
   "metadata": {
    "id": "y4x-4A9iPAAu"
   },
   "source": [
    "### Feature Plots"
   ]
  },
  {
   "cell_type": "code",
   "execution_count": 14,
   "metadata": {
    "id": "dYnSlKMiM8ay"
   },
   "outputs": [],
   "source": [
    "def feature_plot(f):\n",
    "    fig, axs = plt.subplots(1, 4, figsize=(15, 4))\n",
    "    axs[0].hist(df[f],bins = 50)\n",
    "    try:\n",
    "        axs[1].hist(np.log(df[f]),bins = 50)\n",
    "    except:\n",
    "        pass\n",
    "    axs[2].hist(df[df.resp>0][f], bins = 50)\n",
    "    sample = df.sample(5000)\n",
    "    axs[3].scatter(sample[f],sample['resp'],marker = '.')\n",
    "    axs[3].set_xlabel(f)\n",
    "    axs[3].set_ylabel('resp')\n",
    "\n",
    "    axs[0].set_title('feature distribution')\n",
    "    axs[1].set_title('log transform')\n",
    "    axs[2].set_title('distribution resp > 0')\n",
    "\n",
    "    axs[3].set_title('feature vs. response')\n",
    "    return fig"
   ]
  },
  {
   "cell_type": "code",
   "execution_count": null,
   "metadata": {},
   "outputs": [],
   "source": [
    "import datetime\n",
    "import numpy as np\n",
    "from matplotlib.backends.backend_pdf import PdfPages\n",
    "import matplotlib.pyplot as plt\n",
    "\n",
    "\n",
    "with PdfPages('feature_plot.pdf') as pdf:\n",
    "    for feature in [c for c in df.columns if 'feature' in c]:\n",
    "        plt.rc('text', usetex=False)\n",
    "        fig = feature_plot(feature)\n",
    "        pdf.savefig() \n",
    "        plt.close()"
   ]
  },
  {
   "cell_type": "markdown",
   "metadata": {
    "heading_collapsed": true
   },
   "source": [
    "### Target Exploration"
   ]
  },
  {
   "cell_type": "code",
   "execution_count": 21,
   "metadata": {
    "hidden": true
   },
   "outputs": [
    {
     "data": {
      "text/plain": [
       "1    0.5075\n",
       "0    0.4925\n",
       "Name: action, dtype: float64"
      ]
     },
     "execution_count": 21,
     "metadata": {},
     "output_type": "execute_result"
    }
   ],
   "source": [
    "df['action'].value_counts()/len(df)"
   ]
  },
  {
   "cell_type": "markdown",
   "metadata": {
    "heading_collapsed": true,
    "id": "h7oCLcA9NXAM"
   },
   "source": [
    "### Feature Correlation"
   ]
  },
  {
   "cell_type": "code",
   "execution_count": 27,
   "metadata": {
    "hidden": true,
    "id": "r7yN9iNFNlAg"
   },
   "outputs": [
    {
     "data": {
      "text/plain": [
       "<AxesSubplot:>"
      ]
     },
     "execution_count": 27,
     "metadata": {},
     "output_type": "execute_result"
    },
    {
     "data": {
      "image/png": "[encoded data removed]",
      "text/plain": [
       "<Figure size 432x288 with 2 Axes>"
      ]
     },
     "metadata": {
      "needs_background": "light"
     },
     "output_type": "display_data"
    }
   ],
   "source": [
    "sns.heatmap(df[features_list].corr())"
   ]
  },
  {
   "cell_type": "markdown",
   "metadata": {
    "id": "eMptGBITNoNr"
   },
   "source": [
    "## III. Data Preprocessing  <a id='section3'></a>\n",
    "\n",
    "1. Dealing with Missing Values\n",
    "2. Dimension Reduction using PCA and Hierarchy Clustering"
   ]
  },
  {
   "cell_type": "markdown",
   "metadata": {
    "heading_collapsed": true,
    "id": "oEnLSE1KQeDh"
   },
   "source": [
    "### Dealing with Missing Values"
   ]
  },
  {
   "cell_type": "code",
   "execution_count": 16,
   "metadata": {
    "hidden": true,
    "id": "-6DFyDlsQX9I"
   },
   "outputs": [],
   "source": [
    "num_missing = pd.isna(df).sum()\n",
    "perc_missing = num_missing/df.shape[0]"
   ]
  },
  {
   "cell_type": "code",
   "execution_count": 17,
   "metadata": {
    "hidden": true,
    "id": "ymcCmZ4xQX5f"
   },
   "outputs": [],
   "source": [
    "na_col_list = df.columns[pd.isna(df).any()].tolist()"
   ]
  },
  {
   "cell_type": "code",
   "execution_count": 39,
   "metadata": {
    "hidden": true,
    "id": "NplOzCFeQX1x"
   },
   "outputs": [
    {
     "data": {
      "text/plain": [
       "feature_18    0.1598\n",
       "feature_28    0.1598\n",
       "feature_27    0.1598\n",
       "feature_17    0.1598\n",
       "feature_7     0.1584\n",
       "               ...  \n",
       "feature_56    0.0002\n",
       "feature_4     0.0001\n",
       "feature_45    0.0001\n",
       "feature_44    0.0001\n",
       "feature_3     0.0001\n",
       "Length: 84, dtype: float64"
      ]
     },
     "execution_count": 39,
     "metadata": {},
     "output_type": "execute_result"
    }
   ],
   "source": [
    "perc_missing[perc_missing > 0].sort_values(ascending = False)"
   ]
  },
  {
   "cell_type": "markdown",
   "metadata": {
    "heading_collapsed": true,
    "hidden": true,
    "id": "zt_75jvgOGSn"
   },
   "source": [
    "#### 1. Input missing values using Sklearn"
   ]
  },
  {
   "cell_type": "code",
   "execution_count": 40,
   "metadata": {
    "hidden": true,
    "id": "JDwgNhh1QlXF"
   },
   "outputs": [],
   "source": [
    "from sklearn.impute import SimpleImputer\n",
    "from sklearn.experimental import enable_iterative_imputer\n",
    "from sklearn.impute import IterativeImputer"
   ]
  },
  {
   "cell_type": "code",
   "execution_count": 43,
   "metadata": {
    "hidden": true,
    "id": "392-vEaLQlHn"
   },
   "outputs": [],
   "source": [
    "imp = IterativeImputer(n_nearest_features = 10, max_iter=5, random_state=0)\n",
    "df_fillna = imp.fit_transform(df.values)"
   ]
  },
  {
   "cell_type": "code",
   "execution_count": 44,
   "metadata": {
    "hidden": true,
    "id": "7z7qsyxudFDo"
   },
   "outputs": [],
   "source": [
    "df_fillna = pd.DataFrame(df_fillna, index=df.index, columns=df.columns)"
   ]
  },
  {
   "cell_type": "code",
   "execution_count": 45,
   "metadata": {
    "colab": {
     "base_uri": "https://localhost:8080/"
    },
    "hidden": true,
    "id": "fgM4sloOd6y-",
    "outputId": "07958f67-6308-4745-da18-bca9248aef49"
   },
   "outputs": [
    {
     "data": {
      "text/plain": [
       "0"
      ]
     },
     "execution_count": 45,
     "metadata": {},
     "output_type": "execute_result"
    }
   ],
   "source": [
    "sum(df_fillna.isna().sum()>0)"
   ]
  },
  {
   "cell_type": "code",
   "execution_count": null,
   "metadata": {
    "hidden": true,
    "id": "SJvBfQMmd_oM"
   },
   "outputs": [],
   "source": [
    "df_fillna.to_csv('/content/gdrive/MyDrive/Data/df_fillna.csv')"
   ]
  },
  {
   "cell_type": "markdown",
   "metadata": {
    "heading_collapsed": true,
    "id": "v76V8GCndHJC"
   },
   "source": [
    "### Dimension Reduction"
   ]
  },
  {
   "cell_type": "code",
   "execution_count": null,
   "metadata": {
    "hidden": true,
    "id": "iuBg3YlYduPQ"
   },
   "outputs": [],
   "source": [
    "# Standardize the features first\n",
    "from sklearn.preprocessing import StandardScaler, MinMaxScaler\n",
    "#features_rescaled = StandardScaler().fit_transform(df_fillna[features_list].values)\n",
    "features_rescaled = MinMaxScaler().fit_transform(df_fillna[features_list].values)"
   ]
  },
  {
   "cell_type": "markdown",
   "metadata": {
    "heading_collapsed": true,
    "hidden": true,
    "id": "cLrqKYrLOmzu"
   },
   "source": [
    "#### 1. PCA"
   ]
  },
  {
   "cell_type": "code",
   "execution_count": null,
   "metadata": {
    "hidden": true,
    "id": "buktxdZodvAN"
   },
   "outputs": [],
   "source": [
    "from sklearn.decomposition import PCA"
   ]
  },
  {
   "cell_type": "code",
   "execution_count": null,
   "metadata": {
    "colab": {
     "base_uri": "https://localhost:8080/"
    },
    "hidden": true,
    "id": "3rAVjptydviT",
    "outputId": "77d404d0-4f0c-417a-e6f8-01334288fdcf"
   },
   "outputs": [
    {
     "data": {
      "text/plain": [
       "PCA(copy=True, iterated_power='auto', n_components=0.99, random_state=None,\n",
       "    svd_solver='auto', tol=0.0, whiten=False)"
      ]
     },
     "execution_count": 16,
     "metadata": {
      "tags": []
     },
     "output_type": "execute_result"
    }
   ],
   "source": [
    "pca = PCA(n_components = 0.99)\n",
    "pca.fit(features_rescaled)"
   ]
  },
  {
   "cell_type": "code",
   "execution_count": null,
   "metadata": {
    "colab": {
     "base_uri": "https://localhost:8080/",
     "height": 266
    },
    "hidden": true,
    "id": "ENP8do9yYkDb",
    "outputId": "5a7af39d-bcfe-40fb-b668-d6b94524b764"
   },
   "outputs": [
    {
     "data": {
      "image/png": "[encoded data removed]",
      "text/plain": [
       "<Figure size 432x288 with 1 Axes>"
      ]
     },
     "metadata": {
      "needs_background": "light",
      "tags": []
     },
     "output_type": "display_data"
    }
   ],
   "source": [
    "y = pca.explained_variance_ratio_\n",
    "y = np.cumsum(y)\n",
    "x = np.array(range(1,len(pca.explained_variance_ratio_)+1))\n",
    "plt.plot(x, y)\n",
    "plt.show()"
   ]
  },
  {
   "cell_type": "code",
   "execution_count": null,
   "metadata": {
    "hidden": true,
    "id": "vzMKBPTTYknW"
   },
   "outputs": [],
   "source": [
    "pca_features = pca.transform(features_rescaled)"
   ]
  },
  {
   "cell_type": "code",
   "execution_count": null,
   "metadata": {
    "colab": {
     "base_uri": "https://localhost:8080/"
    },
    "hidden": true,
    "id": "SF6GoN8ZD4Oy",
    "outputId": "2532d723-cd88-40a8-dba7-73d2b933e853"
   },
   "outputs": [
    {
     "data": {
      "text/plain": [
       "27"
      ]
     },
     "execution_count": 15,
     "metadata": {
      "tags": []
     },
     "output_type": "execute_result"
    }
   ],
   "source": [
    "len(pca_features[0])"
   ]
  },
  {
   "cell_type": "code",
   "execution_count": null,
   "metadata": {
    "hidden": true,
    "id": "KcN2srLkD4H8"
   },
   "outputs": [],
   "source": [
    "pca_features = pd.DataFrame(pca_features, index=df_fillna.index)"
   ]
  },
  {
   "cell_type": "markdown",
   "metadata": {
    "hidden": true,
    "id": "NuE4CSASos8C"
   },
   "source": [
    "#### 2. Hierachy Clustering"
   ]
  },
  {
   "cell_type": "code",
   "execution_count": 49,
   "metadata": {
    "hidden": true,
    "id": "GPQRnQSEo0cZ"
   },
   "outputs": [],
   "source": [
    "from scipy.cluster.hierarchy import dendrogram, linkage, fcluster"
   ]
  },
  {
   "cell_type": "code",
   "execution_count": 94,
   "metadata": {
    "hidden": true,
    "id": "NA0BijK3o0ZE"
   },
   "outputs": [
    {
     "data": {
      "text/plain": [
       "129"
      ]
     },
     "execution_count": 94,
     "metadata": {},
     "output_type": "execute_result"
    }
   ],
   "source": [
    "cut = 0.15\n",
    "dist = scipy.spatial.distance.pdist(df_fillna[features_list].values.T, 'correlation')\n",
    "dist = 1 - np.abs(1 - dist)\n",
    "cluster = linkage(dist, 'complete')\n",
    "len(cluster)"
   ]
  },
  {
   "cell_type": "code",
   "execution_count": 95,
   "metadata": {
    "hidden": true
   },
   "outputs": [
    {
     "data": {
      "image/png": "[encoded data removed]",
      "text/plain": [
       "<Figure size 1440x864 with 1 Axes>"
      ]
     },
     "metadata": {
      "needs_background": "light"
     },
     "output_type": "display_data"
    }
   ],
   "source": [
    "plt.rcParams['figure.figsize'] = [20,12]\n",
    "dendrogram(cluster, orientation = 'right', leaf_font_size = 10)\n",
    "plt.axvline(x = cut)\n",
    "plt.show()"
   ]
  },
  {
   "cell_type": "code",
   "execution_count": 139,
   "metadata": {
    "hidden": true,
    "id": "_wzQbjGdo0Vn"
   },
   "outputs": [
    {
     "name": "stdout",
     "output_type": "stream",
     "text": [
      "# of cluster: 78\n"
     ]
    }
   ],
   "source": [
    "cluster_s = fcluster(cluster, cut, criterion = 'distance')\n",
    "print('# of cluster: {}'.format(np.max(cluster_s)))\n",
    "df_cluster = pd.DataFrame({'cluster':cluster_s, 'colnames':df_fillna[features_list].columns})"
   ]
  },
  {
   "cell_type": "code",
   "execution_count": 121,
   "metadata": {
    "hidden": true
   },
   "outputs": [],
   "source": [
    "from minepy import MINE"
   ]
  },
  {
   "cell_type": "code",
   "execution_count": 126,
   "metadata": {
    "hidden": true,
    "id": "cJqHOe2Lo0JE"
   },
   "outputs": [],
   "source": [
    "m = MINE()\n",
    "res = []\n",
    "for feature in features_list:\n",
    "    m.compute_score(df_fillna[feature],df_fillna['action'])\n",
    "    res.append([feature,m.mic()])"
   ]
  },
  {
   "cell_type": "code",
   "execution_count": 146,
   "metadata": {
    "hidden": true,
    "id": "DRGafQinpCXw",
    "scrolled": true
   },
   "outputs": [],
   "source": [
    "mi_df = pd.DataFrame(res, columns = ['colnames', 'mi'])\n",
    "df_cluster = df_cluster.merge(mi_df, how = 'inner')"
   ]
  },
  {
   "cell_type": "code",
   "execution_count": 156,
   "metadata": {
    "hidden": true,
    "id": "ZyDGnIzmpCF8"
   },
   "outputs": [],
   "source": [
    "features_selected = df_cluster.iloc[df_cluster.groupby('cluster')['mi'].idxmax()]['colnames'].values"
   ]
  },
  {
   "cell_type": "code",
   "execution_count": 158,
   "metadata": {
    "hidden": true
   },
   "outputs": [
    {
     "data": {
      "text/plain": [
       "78"
      ]
     },
     "execution_count": 158,
     "metadata": {},
     "output_type": "execute_result"
    }
   ],
   "source": [
    "len(features_selected)"
   ]
  },
  {
   "cell_type": "markdown",
   "metadata": {
    "id": "OlsUiK2OP7eJ"
   },
   "source": [
    "## IV. Modeling\n",
    "<a id='section4'></a>"
   ]
  },
  {
   "cell_type": "markdown",
   "metadata": {
    "heading_collapsed": true,
    "id": "GzVOvfPaOvmt"
   },
   "source": [
    "### Data Prep"
   ]
  },
  {
   "cell_type": "code",
   "execution_count": 210,
   "metadata": {
    "hidden": true,
    "id": "abFE9a1HyBU2"
   },
   "outputs": [],
   "source": [
    "# Standardize the features first\n",
    "#df_model = pd.read_csv('/content/gdrive/MyDrive/Data/df_fillna.csv')\n",
    "df_model = df_fillna.copy()\n",
    "features_list = features_selected#[c for c in df_fillna.columns if 'feature' in c]\n",
    "\n",
    "from sklearn.preprocessing import StandardScaler, MinMaxScaler\n",
    "features_rescaled = StandardScaler().fit_transform(df_model[features_list].values)"
   ]
  },
  {
   "cell_type": "markdown",
   "metadata": {
    "heading_collapsed": true,
    "id": "nTDNJtUCbkPF"
   },
   "source": [
    "### Model Evaluation and Selection Functions"
   ]
  },
  {
   "cell_type": "code",
   "execution_count": 198,
   "metadata": {
    "hidden": true,
    "id": "C7AmeT2EaPSw"
   },
   "outputs": [],
   "source": [
    "#Evaluation Funtions\n",
    "\n",
    "from sklearn.model_selection import cross_validate, KFold, cross_val_score, LeaveOneGroupOut, ShuffleSplit, RandomizedSearchCV, GridSearchCV\n",
    "from sklearn.metrics import roc_auc_score\n",
    "\n",
    "def cv_score(model, X, y, n):\n",
    "    res = cross_val_score(model, X, y, scoring = 'roc_auc', cv = n)\n",
    "    return res\n",
    "\n",
    "def model_selection_score(model, X, y, folds):\n",
    "    scores = []\n",
    "    for train_index, test_index in folds.split(X):       \n",
    "        if type(X) == np.ndarray:\n",
    "            X_train, X_test = X[train_index], X[test_index]\n",
    "            y_train, y_test = y[train_index], y[test_index]\n",
    "        else:\n",
    "            X_train, X_test = X.iloc[train_index,:], X.iloc[test_index,:]\n",
    "            y_train, y_test = y.iloc[train_index,:], y.iloc[test_index,:]\n",
    "        model.fit(X_train, y_train)\n",
    "        pred = model.predict(X_test)\n",
    "        scores.append(roc_auc_score(y_test, pred))\n",
    "    return scores"
   ]
  },
  {
   "cell_type": "markdown",
   "metadata": {
    "id": "OMXDSiy4aQJK"
   },
   "source": [
    "### XGBoost"
   ]
  },
  {
   "cell_type": "code",
   "execution_count": 194,
   "metadata": {
    "id": "1DQABK0hnRNn"
   },
   "outputs": [],
   "source": [
    "from bayes_opt import BayesianOptimization\n",
    "import xgboost as xgb\n",
    "from sklearn.metrics import roc_auc_score"
   ]
  },
  {
   "cell_type": "markdown",
   "metadata": {
    "id": "hIqBdFg2nZBJ"
   },
   "source": [
    "#### BayesOptimization"
   ]
  },
  {
   "cell_type": "code",
   "execution_count": 215,
   "metadata": {},
   "outputs": [],
   "source": [
    "ss = ShuffleSplit(n_splits=2, test_size= 100, random_state=2021)\n",
    "for train_index, test_index in ss.split(features_rescaled):\n",
    "    df_model.values[train_index]"
   ]
  },
  {
   "cell_type": "code",
   "execution_count": 216,
   "metadata": {
    "code_folding": [],
    "id": "s0Z-KtzS9Ls5"
   },
   "outputs": [],
   "source": [
    "ss = ShuffleSplit(n_splits=2, test_size= 100, random_state=2021)\n",
    "def shuffle_xgb(learning_rate, n_estimators, max_depth, gamma, subsample, colsample_bytree):\n",
    "    ss_results = model_selection_score(xgb.XGBClassifier(max_depth=int(max_depth), learning_rate=learning_rate,\n",
    "                                               n_estimators=int(n_estimators),verbosity=1,\n",
    "                                subsample=subsample, colsample_bytree = colsample_bytree,gamma = gamma\n",
    "                                #tree_method='gpu_hist' \n",
    "                                                        ), \n",
    "              features_rescaled, df_model['action'].values, ss)\n",
    "    return sum(ss_results)/len(ss_results)"
   ]
  },
  {
   "cell_type": "code",
   "execution_count": null,
   "metadata": {},
   "outputs": [],
   "source": [
    "xgb_bo = BayesianOptimization(shuffle_xgb, {\n",
    "                                             'gamma': (0.1, 0.2),\n",
    "                                            'n_estimators':(3,10),\n",
    "                                             'learning_rate':(0.08,0.09),\n",
    "\n",
    "                                            'max_depth': (5, 10),\n",
    "                                            'subsample':(0.8, 0.8),\n",
    "                                            'colsample_bytree':(0.8, 0.8)                 \n",
    "                                            })\n",
    "\n",
    "xgb_bo.maximize(n_iter=30, init_points=15, acq='ei')"
   ]
  },
  {
   "cell_type": "code",
   "execution_count": null,
   "metadata": {
    "id": "D9CFvfeinQaT"
   },
   "outputs": [],
   "source": [
    "best_params = xgb_bo.max['params']"
   ]
  },
  {
   "cell_type": "markdown",
   "metadata": {
    "id": "FgXcImcXjMUS"
   },
   "source": [
    "#### Random Grid Search"
   ]
  },
  {
   "cell_type": "code",
   "execution_count": 218,
   "metadata": {
    "colab": {
     "base_uri": "https://localhost:8080/"
    },
    "id": "PPSBbrNznKjY",
    "outputId": "60d34156-2c5b-4c98-efd8-5f00540be889"
   },
   "outputs": [],
   "source": [
    "#use hyper optimization as an initial \n",
    "init_params = {\n",
    "              'learning_rate':0.09,\n",
    "               'n_estimators': 10,\n",
    "\n",
    "              'max_depth': 10,\n",
    "              'subsample': 0.9,\n",
    "              'colsample_bytree':0.6,\n",
    "\n",
    "              'gamma': 0.7,\n",
    "              'eval_metric': 'auc',\n",
    "\n",
    "              'tree_method' : 'gpu_hist'\n",
    "            }"
   ]
  },
  {
   "cell_type": "code",
   "execution_count": 219,
   "metadata": {
    "colab": {
     "base_uri": "https://localhost:8080/"
    },
    "collapsed": true,
    "id": "U60kuXfuTQkq",
    "outputId": "89895e9b-e0e7-4440-caca-4af892b0c60b"
   },
   "outputs": [
    {
     "name": "stderr",
     "output_type": "stream",
     "text": [
      "/opt/anaconda3/lib/python3.8/site-packages/xgboost/sklearn.py:888: UserWarning: The use of label encoder in XGBClassifier is deprecated and will be removed in a future release. To remove this warning, do the following: 1) Pass option use_label_encoder=False when constructing XGBClassifier object; and 2) Encode your labels (y) as integers starting with 0, i.e. 0, 1, 2, ..., [num_class - 1].\n",
      "  warnings.warn(label_encoder_deprecation_msg, UserWarning)\n"
     ]
    },
    {
     "name": "stdout",
     "output_type": "stream",
     "text": [
      "[22:38:57] WARNING: /Users/runner/miniforge3/conda-bld/xgboost_1607604592557/work/src/learner.cc:1061: Starting in XGBoost 1.3.0, the default evaluation metric used with the objective 'binary:logistic' was changed from 'error' to 'logloss'. Explicitly set eval_metric if you'd like to restore the old behavior.\n"
     ]
    },
    {
     "name": "stderr",
     "output_type": "stream",
     "text": [
      "/opt/anaconda3/lib/python3.8/site-packages/xgboost/sklearn.py:888: UserWarning: The use of label encoder in XGBClassifier is deprecated and will be removed in a future release. To remove this warning, do the following: 1) Pass option use_label_encoder=False when constructing XGBClassifier object; and 2) Encode your labels (y) as integers starting with 0, i.e. 0, 1, 2, ..., [num_class - 1].\n",
      "  warnings.warn(label_encoder_deprecation_msg, UserWarning)\n"
     ]
    },
    {
     "name": "stdout",
     "output_type": "stream",
     "text": [
      "[22:40:20] WARNING: /Users/runner/miniforge3/conda-bld/xgboost_1607604592557/work/src/learner.cc:1061: Starting in XGBoost 1.3.0, the default evaluation metric used with the objective 'binary:logistic' was changed from 'error' to 'logloss'. Explicitly set eval_metric if you'd like to restore the old behavior.\n"
     ]
    }
   ],
   "source": [
    "init_ss_results = shuffle_xgb(learning_rate=init_params['learning_rate'], n_estimators=init_params['n_estimators'], \n",
    "                              max_depth=init_params['max_depth'], gamma=init_params['gamma'], \n",
    "                              subsample=init_params['subsample'], colsample_bytree=init_params['colsample_bytree'])"
   ]
  },
  {
   "cell_type": "code",
   "execution_count": null,
   "metadata": {
    "id": "4VLoFBVYzemd"
   },
   "outputs": [],
   "source": [
    "#1. Optimizing Max depth using a realtive large learning rate"
   ]
  },
  {
   "cell_type": "code",
   "execution_count": null,
   "metadata": {},
   "outputs": [],
   "source": [
    "res = []\n",
    "for _max_depth in [26,30]:\n",
    "    res.append([_max_depth, shuffle_xgb(learning_rate=init_params['learning_rate'], n_estimators=init_params['n_estimators'], \n",
    "          max_depth=_max_depth, gamma=init_params['gamma'], subsample=init_params['subsample'], colsample_bytree=init_params['colsample_bytree'])])"
   ]
  },
  {
   "cell_type": "code",
   "execution_count": null,
   "metadata": {
    "id": "5eMJQS9mpIQS"
   },
   "outputs": [],
   "source": [
    "#2. Optimizing regularization parameters"
   ]
  },
  {
   "cell_type": "code",
   "execution_count": null,
   "metadata": {
    "id": "tI8cqi8LpH8q"
   },
   "outputs": [],
   "source": [
    "res = []\n",
    "for _gamma in [0.1, 0.15, 0.2, 0.3 , 0.5]:\n",
    "    res.append([max_depth, shuffle_xgb(learning_rate=init_params['learning_rate'], n_estimators=init_params['n_estimators'], \n",
    "          max_depth=best_max_depth, gamma=_gamma, subsample=init_params['subsample'], colsample_bytree=init_params['colsample_bytree'])])\n",
    "res"
   ]
  },
  {
   "cell_type": "code",
   "execution_count": null,
   "metadata": {
    "id": "uARcrwVppHwa"
   },
   "outputs": [],
   "source": [
    "#3. Optimizing sampling parameters"
   ]
  },
  {
   "cell_type": "code",
   "execution_count": null,
   "metadata": {
    "id": "DOp-2UdPTvZO"
   },
   "outputs": [],
   "source": [
    "param_dist = {\n",
    " 'subsample':range(0.5,0.9),\n",
    " 'colsample_bytree':range(0.5,0.9)\n",
    "}\n",
    "\n",
    "rs = RandomSearchCV(estimator = xgb.XGBClassifier(\n",
    "  max_depth = init_params['max_depth'],\n",
    " learning_rate =init_params['learning_rate'],\n",
    " n_estimators=init_params['n_estimators'],\n",
    " #subsample=init_params['subsample'],\n",
    "  #colsample_bytree=init_params['colsample_bytree'],\n",
    "  gamma = init_params['gamma'],\n",
    "  tree_method = 'gpu_hist'\n",
    "), \n",
    "param_grid = param_dist, scoring='auc',n_jobs=1,iid=False, cv=5)\n",
    "\n",
    "rs.fit(features_rescaled,df_fillna['action'])"
   ]
  },
  {
   "cell_type": "code",
   "execution_count": null,
   "metadata": {
    "id": "4I-vVC-ETvVI"
   },
   "outputs": [],
   "source": [
    "#4. Optimizing learning rate"
   ]
  },
  {
   "cell_type": "code",
   "execution_count": null,
   "metadata": {
    "id": "hbIM_4bOTvRg"
   },
   "outputs": [],
   "source": [
    "param_dist = {\n",
    " 'learning_rate':range(0.01,0.1)\n",
    "}\n",
    "\n",
    "gs = GridSearchCV(estimator = xgb.XGBClassifier(\n",
    "  max_depth = init_params['max_depth'],\n",
    " #learning_rate =init_params['learning_rate'],\n",
    " n_estimators=init_params['n_estimators'],\n",
    " subsample=init_params['subsample'],\n",
    "  colsample_bytree=init_params['colsample_bytree'],\n",
    "  gamma = init_params['gamma'],\n",
    "  tree_method = 'gpu_hist'\n",
    "), \n",
    "param_grid = param_dist, scoring='auc',n_jobs=1,iid=False, cv=5)\n",
    "\n",
    "gs.fit(features_rescaled,df_fillna['action'])"
   ]
  },
  {
   "cell_type": "code",
   "execution_count": null,
   "metadata": {
    "id": "nCpQxFclnQHm"
   },
   "outputs": [],
   "source": []
  },
  {
   "cell_type": "code",
   "execution_count": null,
   "metadata": {},
   "outputs": [],
   "source": []
  },
  {
   "cell_type": "code",
   "execution_count": null,
   "metadata": {},
   "outputs": [],
   "source": []
  },
  {
   "cell_type": "code",
   "execution_count": null,
   "metadata": {},
   "outputs": [],
   "source": []
  },
  {
   "cell_type": "code",
   "execution_count": null,
   "metadata": {},
   "outputs": [],
   "source": []
  }
 ],
 "metadata": {
  "accelerator": "GPU",
  "colab": {
   "collapsed_sections": [
    "ojomFtf1L2Zo",
    "h7oCLcA9NXAM"
   ],
   "machine_shape": "hm",
   "name": "Jane Street XGB.ipynb",
   "provenance": [],
   "toc_visible": true
  },
  "kernelspec": {
   "display_name": "Python 3",
   "language": "python",
   "name": "python3"
  },
  "language_info": {
   "codemirror_mode": {
    "name": "ipython",
    "version": 3
   },
   "file_extension": ".py",
   "mimetype": "text/x-python",
   "name": "python",
   "nbconvert_exporter": "python",
   "pygments_lexer": "ipython3",
   "version": "3.8.5"
  }
 },
 "nbformat": 4,
 "nbformat_minor": 1
}
